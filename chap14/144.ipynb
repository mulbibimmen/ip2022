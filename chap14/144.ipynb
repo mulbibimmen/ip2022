{
 "cells": [
  {
   "cell_type": "markdown",
   "metadata": {},
   "source": [
    "# 1.4.4 Smoothing Images"
   ]
  },
  {
   "cell_type": "markdown",
   "metadata": {},
   "source": [
    "## Kernel Convolution"
   ]
  },
  {
   "cell_type": "code",
   "execution_count": 1,
   "metadata": {},
   "outputs": [],
   "source": [
    "import cv2\n",
    "import numpy as np\n",
    "from matplotlib import pyplot as plt"
   ]
  },
  {
   "cell_type": "code",
   "execution_count": 2,
   "metadata": {},
   "outputs": [],
   "source": [
    "l=1\n",
    "kernel = np.array([[-0,-1,0],[-1,5,-1],[0,-1,-0]],np.float32)"
   ]
  },
  {
   "cell_type": "code",
   "execution_count": 3,
   "metadata": {},
   "outputs": [
    {
     "data": {
      "text/plain": [
       "array([[ 0., -1.,  0.],\n",
       "       [-1.,  5., -1.],\n",
       "       [ 0., -1.,  0.]], dtype=float32)"
      ]
     },
     "execution_count": 3,
     "metadata": {},
     "output_type": "execute_result"
    }
   ],
   "source": [
    "kernel"
   ]
  },
  {
   "cell_type": "code",
   "execution_count": 4,
   "metadata": {},
   "outputs": [],
   "source": [
    "img = np.random.randint(10, size=(12,12))\n",
    "#img = np.ones((10,10),np.float32)"
   ]
  },
  {
   "cell_type": "code",
   "execution_count": 5,
   "metadata": {},
   "outputs": [
    {
     "data": {
      "text/plain": [
       "array([[2, 4, 6, 9, 7, 6, 0, 9, 2, 6, 6, 0],\n",
       "       [5, 0, 1, 3, 5, 6, 3, 4, 5, 8, 3, 1],\n",
       "       [7, 1, 5, 2, 3, 1, 0, 1, 9, 6, 2, 6],\n",
       "       [1, 3, 6, 6, 7, 1, 0, 8, 2, 9, 4, 1],\n",
       "       [3, 7, 6, 3, 4, 2, 9, 0, 9, 0, 7, 5],\n",
       "       [9, 4, 8, 5, 9, 1, 0, 2, 2, 7, 8, 1],\n",
       "       [7, 2, 7, 6, 2, 6, 0, 3, 4, 9, 0, 9],\n",
       "       [4, 9, 8, 6, 4, 0, 5, 1, 5, 3, 9, 9],\n",
       "       [2, 2, 2, 3, 7, 3, 6, 3, 8, 0, 7, 8],\n",
       "       [1, 0, 8, 7, 5, 9, 1, 2, 8, 9, 1, 6],\n",
       "       [1, 3, 1, 1, 5, 9, 1, 9, 3, 5, 8, 6],\n",
       "       [1, 1, 0, 3, 9, 0, 2, 9, 2, 7, 1, 0]])"
      ]
     },
     "execution_count": 5,
     "metadata": {},
     "output_type": "execute_result"
    }
   ],
   "source": [
    "img"
   ]
  },
  {
   "cell_type": "code",
   "execution_count": 6,
   "metadata": {},
   "outputs": [],
   "source": [
    "h,w=img.shape"
   ]
  },
  {
   "cell_type": "code",
   "execution_count": 7,
   "metadata": {},
   "outputs": [
    {
     "name": "stdout",
     "output_type": "stream",
     "text": [
      "12 12\n"
     ]
    }
   ],
   "source": [
    "print(h,w)"
   ]
  },
  {
   "cell_type": "code",
   "execution_count": 8,
   "metadata": {},
   "outputs": [],
   "source": [
    "#[*range(-2,3)]"
   ]
  },
  {
   "cell_type": "code",
   "execution_count": 9,
   "metadata": {},
   "outputs": [
    {
     "name": "stderr",
     "output_type": "stream",
     "text": [
      "C:\\Users\\kge50\\AppData\\Local\\Temp/ipykernel_13960/2160328971.py:1: DeprecationWarning: `np.int` is a deprecated alias for the builtin `int`. To silence this warning, use `int` by itself. Doing this will not modify any behavior and is safe. When replacing `np.int`, you may wish to use e.g. `np.int64` or `np.int32` to specify the precision. If you wish to review your current use, check the release note link for additional information.\n",
      "Deprecated in NumPy 1.20; for more details and guidance: https://numpy.org/devdocs/release/1.20.0-notes.html#deprecations\n",
      "  dst = np.zeros((h,w),np.int)\n"
     ]
    }
   ],
   "source": [
    "dst = np.zeros((h,w),np.int)"
   ]
  },
  {
   "cell_type": "code",
   "execution_count": 10,
   "metadata": {},
   "outputs": [],
   "source": [
    "for i in range(l,h-l):\n",
    "    for j in range(l,w-l):\n",
    "        t=0\n",
    "        for p in range(-l,l+1):\n",
    "            for q in range(-l,l+1):\n",
    "                t += kernel[p+l,q+l]*img[i+p,j+q]\n",
    "        dst[i,j]=t        "
   ]
  },
  {
   "cell_type": "code",
   "execution_count": 11,
   "metadata": {},
   "outputs": [
    {
     "data": {
      "text/plain": [
       "array([[2, 4, 6, 9, 7, 6, 0, 9, 2, 6, 6, 0],\n",
       "       [5, 0, 1, 3, 5, 6, 3, 4, 5, 8, 3, 1],\n",
       "       [7, 1, 5, 2, 3, 1, 0, 1, 9, 6, 2, 6],\n",
       "       [1, 3, 6, 6, 7, 1, 0, 8, 2, 9, 4, 1],\n",
       "       [3, 7, 6, 3, 4, 2, 9, 0, 9, 0, 7, 5],\n",
       "       [9, 4, 8, 5, 9, 1, 0, 2, 2, 7, 8, 1],\n",
       "       [7, 2, 7, 6, 2, 6, 0, 3, 4, 9, 0, 9],\n",
       "       [4, 9, 8, 6, 4, 0, 5, 1, 5, 3, 9, 9],\n",
       "       [2, 2, 2, 3, 7, 3, 6, 3, 8, 0, 7, 8],\n",
       "       [1, 0, 8, 7, 5, 9, 1, 2, 8, 9, 1, 6],\n",
       "       [1, 3, 1, 1, 5, 9, 1, 9, 3, 5, 8, 6],\n",
       "       [1, 1, 0, 3, 9, 0, 2, 9, 2, 7, 1, 0]])"
      ]
     },
     "execution_count": 11,
     "metadata": {},
     "output_type": "execute_result"
    }
   ],
   "source": [
    "img"
   ]
  },
  {
   "cell_type": "code",
   "execution_count": 12,
   "metadata": {},
   "outputs": [
    {
     "data": {
      "text/plain": [
       "array([[  0,   0,   0,   0,   0,   0,   0,   0,   0,   0,   0,   0],\n",
       "       [  0, -11,  -9,  -2,   6,  15,   5,   2,   2,  20,  -2,   0],\n",
       "       [  0, -10,  15,  -7,   0,  -5,  -5, -16,  31,   2,  -9,   0],\n",
       "       [  0,   0,  10,  12,  21,  -5, -18,  37, -25,  33,   1,   0],\n",
       "       [  0,  19,   6,  -6,  -1,  -5,  43, -28,  41, -32,  18,   0],\n",
       "       [  0,  -6,  18,  -1,  33, -12, -12,   5, -12,  16,  25,   0],\n",
       "       [  0, -17,  11,  10, -15,  27, -14,   8,   1,  31, -35,   0],\n",
       "       [  0,  29,  16,   9,   5, -18,  18, -11,   9,  -8,  26,   0],\n",
       "       [  0,  -3, -11,  -7,  20,  -7,  18,  -2,  24, -27,  17,   0],\n",
       "       [  0, -14,  30,  18,  -3,  27, -13, -11,  18,  31, -25,   0],\n",
       "       [  0,  12,  -7, -11,   1,  30, -16,  30,  -9,  -2,  27,   0],\n",
       "       [  0,   0,   0,   0,   0,   0,   0,   0,   0,   0,   0,   0]])"
      ]
     },
     "execution_count": 12,
     "metadata": {},
     "output_type": "execute_result"
    }
   ],
   "source": [
    "dst"
   ]
  },
  {
   "cell_type": "code",
   "execution_count": 13,
   "metadata": {},
   "outputs": [],
   "source": [
    "img = cv2.imread('image\\lena.png', 0)"
   ]
  },
  {
   "cell_type": "code",
   "execution_count": 14,
   "metadata": {},
   "outputs": [],
   "source": [
    "h,w=img.shape"
   ]
  },
  {
   "cell_type": "code",
   "execution_count": null,
   "metadata": {},
   "outputs": [],
   "source": [
    "dst = np.zeros((h-2*l,w-2*l),np.uint8)"
   ]
  },
  {
   "cell_type": "code",
   "execution_count": null,
   "metadata": {},
   "outputs": [],
   "source": [
    "for i in range(l,h-l):\n",
    "    for j in range(l,w-l):\n",
    "        t=0\n",
    "        for p in range(-l,l+1):\n",
    "            for q in range(-l,l+1):\n",
    "                t += kernel[p+l,q+l]*img[i+p,j+q]\n",
    "        dst[i-l,j-l]=t "
   ]
  },
  {
   "cell_type": "code",
   "execution_count": null,
   "metadata": {},
   "outputs": [],
   "source": [
    "cv2.imshow('img',img)\n",
    "cv2.imshow('dst',dst)\n",
    "cv2.waitKey(0)\n",
    "cv2.destroyAllWindows()"
   ]
  },
  {
   "cell_type": "code",
   "execution_count": null,
   "metadata": {},
   "outputs": [],
   "source": []
  }
 ],
 "metadata": {
  "kernelspec": {
   "display_name": "Python 3.9.7 ('siif2022')",
   "language": "python",
   "name": "python3"
  },
  "language_info": {
   "codemirror_mode": {
    "name": "ipython",
    "version": 3
   },
   "file_extension": ".py",
   "mimetype": "text/x-python",
   "name": "python",
   "nbconvert_exporter": "python",
   "pygments_lexer": "ipython3",
   "version": "3.9.7"
  },
  "vscode": {
   "interpreter": {
    "hash": "bab6b659e693fbbdfd96c3d239b226720dce491d3eec41027d3ab5c6f664e53c"
   }
  }
 },
 "nbformat": 4,
 "nbformat_minor": 4
}
